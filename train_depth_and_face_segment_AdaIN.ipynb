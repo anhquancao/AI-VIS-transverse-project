{
 "cells": [
  {
   "cell_type": "code",
   "execution_count": 1,
   "metadata": {},
   "outputs": [],
   "source": [
    "import torch\n",
    "import torch.backends.cudnn as cudnn\n",
    "import torch.nn as nn\n",
    "import torch.utils.data as data\n",
    "from PIL import Image, ImageFile\n",
    "from tensorboardX import SummaryWriter\n",
    "from torchvision import transforms\n",
    "from tqdm import tqdm\n",
    "from sampler import InfiniteSamplerWrapper\n",
    "from pathlib import Path\n",
    "from lib.bisenet import BiSeNet\n",
    "from lib.depth_net import DepthV3\n",
    "import net"
   ]
  },
  {
   "cell_type": "code",
   "execution_count": 2,
   "metadata": {},
   "outputs": [],
   "source": [
    "content_dir = \"input/faces\"\n",
    "style_dir = \"input/arts\"\n",
    "vgg_path = 'models/vgg_normalised.pth'\n",
    "save_dir = './experiments'\n",
    "log_dir = './logs'\n",
    "lr = 1e-4\n",
    "lr_decay = 5e-5\n",
    "max_iter = 10000\n",
    "batch_size = 8\n",
    "n_threads = 4\n",
    "save_model_interval = 1000"
   ]
  },
  {
   "cell_type": "code",
   "execution_count": 3,
   "metadata": {},
   "outputs": [],
   "source": [
    "def train_transform():\n",
    "    transform_list = [\n",
    "        transforms.Resize(size=(300, 300)),\n",
    "        transforms.RandomCrop(256),\n",
    "        transforms.ToTensor()\n",
    "    ]\n",
    "    return transforms.Compose(transform_list)\n",
    "\n",
    "class FlatFolderDataset(data.Dataset):\n",
    "    def __init__(self, root, transform):\n",
    "        super(FlatFolderDataset, self).__init__()\n",
    "        self.root = root\n",
    "        self.paths = list(Path(self.root).glob('*.jpg'))\n",
    "        self.transform = transform\n",
    "\n",
    "    def __getitem__(self, index):\n",
    "        path = self.paths[index]\n",
    "        img = Image.open(str(path)).convert('RGB')\n",
    "        img = self.transform(img)\n",
    "        return img\n",
    "\n",
    "    def __len__(self):\n",
    "        return len(self.paths)\n",
    "\n",
    "    def name(self):\n",
    "        return 'FlatFolderDataset'\n",
    "    \n",
    "def adjust_learning_rate(optimizer, iteration_count, lr):\n",
    "    \"\"\"Imitating the original implementation\"\"\"\n",
    "    new_lr = lr / (1.0 + lr_decay * iteration_count)\n",
    "    for param_group in optimizer.param_groups:\n",
    "        param_group['lr'] = new_lr\n",
    "    return new_lr"
   ]
  },
  {
   "cell_type": "code",
   "execution_count": 4,
   "metadata": {},
   "outputs": [],
   "source": [
    "device = torch.device('cuda')\n",
    "save_dir = Path(save_dir)\n",
    "save_dir.mkdir(exist_ok=True, parents=True)\n",
    "log_dir = Path(log_dir)\n",
    "log_dir.mkdir(exist_ok=True, parents=True)\n",
    "writer = SummaryWriter(log_dir=str(log_dir))"
   ]
  },
  {
   "cell_type": "code",
   "execution_count": 5,
   "metadata": {},
   "outputs": [],
   "source": [
    "decoder = net.decoder\n",
    "decoder.load_state_dict(torch.load(\"experiments/decoder_iter_62000.pth\"))\n",
    "\n",
    "vgg = net.vgg\n",
    "vgg.load_state_dict(torch.load(vgg_path))\n",
    "vgg = nn.Sequential(*list(vgg.children())[:31])\n",
    "\n",
    "n_classes = 19\n",
    "face_net = BiSeNet(n_classes=n_classes)\n",
    "face_net.load_state_dict(torch.load('models/79999_iter.pth'))\n",
    "for param in face_net.parameters():\n",
    "    param.requires_grad = False\n",
    "    \n",
    "depth_net = DepthV3((100, 100))\n",
    "depth_net.load_state_dict(torch.load('models/depth_model_40_-1.076169682497328.pth'))\n",
    "for param in depth_net.parameters():\n",
    "    param.requires_grad = False\n",
    "    \n",
    "network = net.NetDepthFaceSegment(vgg, decoder, face_net, depth_net)\n",
    "network.train()\n",
    "network.to(device);"
   ]
  },
  {
   "cell_type": "code",
   "execution_count": 6,
   "metadata": {},
   "outputs": [],
   "source": [
    "content_tf = train_transform()\n",
    "style_tf = train_transform()\n",
    "\n",
    "content_dataset = FlatFolderDataset(content_dir, content_tf)\n",
    "style_dataset = FlatFolderDataset(style_dir, style_tf)\n",
    "\n",
    "content_iter = iter(data.DataLoader(\n",
    "    content_dataset, batch_size=batch_size,\n",
    "    sampler=InfiniteSamplerWrapper(content_dataset),\n",
    "    num_workers=n_threads))\n",
    "\n",
    "style_iter = iter(data.DataLoader(\n",
    "    style_dataset, batch_size=batch_size,\n",
    "    sampler=InfiniteSamplerWrapper(style_dataset),\n",
    "    num_workers=n_threads))\n"
   ]
  },
  {
   "cell_type": "code",
   "execution_count": 7,
   "metadata": {},
   "outputs": [
    {
     "name": "stderr",
     "output_type": "stream",
     "text": [
      "  0%|          | 0/10000 [00:00<?, ?it/s]/home/aquancva/.conda/envs/style/lib/python3.6/site-packages/torch/nn/functional.py:2416: UserWarning: nn.functional.upsample is deprecated. Use nn.functional.interpolate instead.\n",
      "  warnings.warn(\"nn.functional.upsample is deprecated. Use nn.functional.interpolate instead.\")\n",
      "100%|██████████| 10000/10000 [3:13:49<00:00,  1.16s/it] \n"
     ]
    }
   ],
   "source": [
    "optimizer = torch.optim.Adam(network.decoder.parameters(), lr=lr)\n",
    "\n",
    "style_weight = 10.0\n",
    "content_weight = 1.0\n",
    "face_segmentation_weight = 30.0\n",
    "depth_weight = 100.0\n",
    "\n",
    "for i in tqdm(range(1, 10001)):\n",
    "    lr = adjust_learning_rate(optimizer, iteration_count=i, lr=lr)\n",
    "    \n",
    "    content_images = next(content_iter).to(device)\n",
    "    style_images = next(style_iter).to(device)\n",
    "    \n",
    "    loss_c, loss_s, loss_f, loss_d, _, _, _, _ = network(content_images, style_images)\n",
    "    loss_c = content_weight * loss_c\n",
    "    loss_s = style_weight * loss_s\n",
    "    loss_f = face_segmentation_weight * loss_f\n",
    "    loss_d = depth_weight * loss_d \n",
    "    loss = loss_c + loss_s + loss_f + loss_d\n",
    "\n",
    "    optimizer.zero_grad()\n",
    "    loss.backward()\n",
    "    optimizer.step()\n",
    "\n",
    "    writer.add_scalar('loss_content', loss_c.item(), i + 1)\n",
    "    writer.add_scalar('loss_style', loss_s.item(), i + 1)\n",
    "\n",
    "    if (i + 1) % save_model_interval == 0 or (i + 1) == max_iter:\n",
    "        state_dict = net.decoder.state_dict()\n",
    "        for key in state_dict.keys():\n",
    "            state_dict[key] = state_dict[key].to(torch.device('cpu'))\n",
    "        torch.save(state_dict, save_dir /\n",
    "                   'decoder_face_segmentation_iter_{:d}.pth'.format(i + 1))\n",
    "writer.close()"
   ]
  },
  {
   "cell_type": "code",
   "execution_count": null,
   "metadata": {},
   "outputs": [],
   "source": []
  },
  {
   "cell_type": "code",
   "execution_count": null,
   "metadata": {},
   "outputs": [],
   "source": []
  },
  {
   "cell_type": "code",
   "execution_count": null,
   "metadata": {},
   "outputs": [],
   "source": []
  }
 ],
 "metadata": {
  "kernelspec": {
   "display_name": "style (Python 3.6)",
   "language": "python",
   "name": "myenv"
  },
  "language_info": {
   "codemirror_mode": {
    "name": "ipython",
    "version": 3
   },
   "file_extension": ".py",
   "mimetype": "text/x-python",
   "name": "python",
   "nbconvert_exporter": "python",
   "pygments_lexer": "ipython3",
   "version": "3.6.10"
  }
 },
 "nbformat": 4,
 "nbformat_minor": 4
}
